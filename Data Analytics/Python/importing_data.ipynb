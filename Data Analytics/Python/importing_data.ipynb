{
 "cells": [
  {
   "cell_type": "markdown",
   "metadata": {},
   "source": [
    "## Importing data from different sources tyoes"
   ]
  },
  {
   "cell_type": "code",
   "execution_count": 1,
   "metadata": {},
   "outputs": [],
   "source": [
    "import json\n"
   ]
  },
  {
   "cell_type": "code",
   "execution_count": 2,
   "metadata": {},
   "outputs": [
    {
     "name": "stdout",
     "output_type": "stream",
     "text": [
      "Help on function load in module json:\n",
      "\n",
      "load(fp, *, cls=None, object_hook=None, parse_float=None, parse_int=None, parse_constant=None, object_pairs_hook=None, **kw)\n",
      "    Deserialize ``fp`` (a ``.read()``-supporting file-like object containing\n",
      "    a JSON document) to a Python object.\n",
      "    \n",
      "    ``object_hook`` is an optional function that will be called with the\n",
      "    result of any object literal decode (a ``dict``). The return value of\n",
      "    ``object_hook`` will be used instead of the ``dict``. This feature\n",
      "    can be used to implement custom decoders (e.g. JSON-RPC class hinting).\n",
      "    \n",
      "    ``object_pairs_hook`` is an optional function that will be called with the\n",
      "    result of any object literal decoded with an ordered list of pairs.  The\n",
      "    return value of ``object_pairs_hook`` will be used instead of the ``dict``.\n",
      "    This feature can be used to implement custom decoders.  If ``object_hook``\n",
      "    is also defined, the ``object_pairs_hook`` takes priority.\n",
      "    \n",
      "    To use a custom ``JSONDecoder`` subclass, specify it with the ``cls``\n",
      "    kwarg; otherwise ``JSONDecoder`` is used.\n",
      "\n"
     ]
    }
   ],
   "source": [
    "help(json.load)"
   ]
  },
  {
   "cell_type": "code",
   "execution_count": 3,
   "metadata": {},
   "outputs": [],
   "source": [
    "# open JSON file \n",
    "\n",
    "with open(\"posts-100.json') as f:\n",
    "    posts_json = json.load(f)"
   ]
  },
  {
   "cell_type": "code",
   "execution_count": 4,
   "metadata": {},
   "outputs": [
    {
     "data": {
      "text/plain": [
       "list"
      ]
     },
     "execution_count": 4,
     "metadata": {},
     "output_type": "execute_result"
    }
   ],
   "source": [
    "# type of object\n",
    "type(posts_json)"
   ]
  },
  {
   "cell_type": "code",
   "execution_count": 5,
   "metadata": {},
   "outputs": [
    {
     "data": {
      "text/plain": [
       "100"
      ]
     },
     "execution_count": 5,
     "metadata": {},
     "output_type": "execute_result"
    }
   ],
   "source": [
    "# len of json\n",
    "len(posts_json)"
   ]
  },
  {
   "cell_type": "code",
   "execution_count": 6,
   "metadata": {},
   "outputs": [
    {
     "data": {
      "text/plain": [
       "{'Id': 5,\n",
       " 'PostTypeId': '1',\n",
       " 'CreationDate': '2014-05-13T23:58:30.457',\n",
       " 'Score': 9,\n",
       " 'ViewCount': 448,\n",
       " 'LastActivityDate': '2014-05-14T00:36:31.077',\n",
       " 'Title': 'How can I do simple machine learning without hard-coding behavior?',\n",
       " 'Tags': '<machine-learning>',\n",
       " 'AnswerCount': 1,\n",
       " 'CommentCount': 1,\n",
       " 'FavoriteCount': 1,\n",
       " 'ClosedDate': '2014-05-14T14:40:25.950'}"
      ]
     },
     "execution_count": 6,
     "metadata": {},
     "output_type": "execute_result"
    }
   ],
   "source": [
    "# first element of json file\n",
    "posts_json[0]"
   ]
  },
  {
   "cell_type": "code",
   "execution_count": 30,
   "metadata": {},
   "outputs": [],
   "source": [
    "json_original = \"\"\"\n",
    "{\"Id\": 5,\n",
    " \"PostTypeId\": \"1\",\n",
    " \"CreationDate\": \"2014-05-13T23:58:30.457\",\n",
    " \"Score\": 9,\n",
    " \"ViewCount\": 448,\n",
    " \"LastActivityDate\": \"2014-05-14T00:36:31.077\",\n",
    " \"Title\": \"How can I do simple machine learning without hard-coding behavior?\",\n",
    " \"Tags\": \"<machine-learning>\",\n",
    " \"AnswerCount\": 1,\n",
    " \"CommentCount\": 1,\n",
    " \"FavoriteCount\": 1,\n",
    " \"ClosedDate\": \"2014-05-14T14:40:25.950\"}\n",
    "\"\"\"\n",
    "\n"
   ]
  },
  {
   "cell_type": "code",
   "execution_count": 31,
   "metadata": {},
   "outputs": [
    {
     "data": {
      "text/plain": [
       "'\\n{\"Id\": 5,\\n \"PostTypeId\": \"1\",\\n \"CreationDate\": \"2014-05-13T23:58:30.457\",\\n \"Score\": 9,\\n \"ViewCount\": 448,\\n \"LastActivityDate\": \"2014-05-14T00:36:31.077\",\\n \"Title\": \"How can I do simple machine learning without hard-coding behavior?\",\\n \"Tags\": \"<machine-learning>\",\\n \"AnswerCount\": 1,\\n \"CommentCount\": 1,\\n \"FavoriteCount\": 1,\\n \"ClosedDate\": \"2014-05-14T14:40:25.950\"}\\n'"
      ]
     },
     "execution_count": 31,
     "metadata": {},
     "output_type": "execute_result"
    }
   ],
   "source": [
    "json_original"
   ]
  },
  {
   "cell_type": "code",
   "execution_count": 32,
   "metadata": {},
   "outputs": [],
   "source": [
    "json_loaded = json.loads(json_original)"
   ]
  },
  {
   "cell_type": "markdown",
   "metadata": {},
   "source": [
    "## XML data"
   ]
  },
  {
   "cell_type": "code",
   "execution_count": 37,
   "metadata": {},
   "outputs": [],
   "source": [
    "import xml.etree.ElementTree as ET\n"
   ]
  },
  {
   "cell_type": "code",
   "execution_count": 38,
   "metadata": {},
   "outputs": [
    {
     "data": {
      "text/plain": [
       "<xml.etree.ElementTree.ElementTree at 0x26fde2bf220>"
      ]
     },
     "execution_count": 38,
     "metadata": {},
     "output_type": "execute_result"
    }
   ],
   "source": [
    "tree = ET.parse('users-100.xml')\n",
    "tree"
   ]
  },
  {
   "cell_type": "code",
   "execution_count": 40,
   "metadata": {},
   "outputs": [
    {
     "data": {
      "text/plain": [
       "'Users'"
      ]
     },
     "execution_count": 40,
     "metadata": {},
     "output_type": "execute_result"
    }
   ],
   "source": [
    "user_root = tree.getroot()\n",
    "user_root.tag"
   ]
  },
  {
   "cell_type": "code",
   "execution_count": 57,
   "metadata": {},
   "outputs": [
    {
     "name": "stdout",
     "output_type": "stream",
     "text": [
      "row {'AccountId': '-1', 'CreationDate': '2014-05-13T21:29:22.820', 'DownVotes': '679', 'Id': '-1', 'LastAccessDate': '2014-05-13T21:29:22.820', 'Location': 'on the server farm', 'Reputation': '1', 'UpVotes': '780', 'Views': '0'}\n",
      "row {'AccountId': '37099', 'CreationDate': '2014-05-13T22:58:54.810', 'DownVotes': '0', 'Id': '1', 'LastAccessDate': '2018-08-19T18:07:35.607', 'Location': 'New York, NY', 'ProfileImageUrl': 'https://i.stack.imgur.com/SMEGn.jpg?s=128&g=1', 'Reputation': '101', 'UpVotes': '0', 'Views': '256'}\n",
      "row {'AccountId': '2', 'CreationDate': '2014-05-13T22:59:19.787', 'DownVotes': '0', 'Id': '2', 'LastAccessDate': '2017-12-19T18:52:19.423', 'Location': 'Corvallis, OR', 'ProfileImageUrl': 'https://i.stack.imgur.com/nDllk.png', 'Reputation': '101', 'UpVotes': '0', 'Views': '7'}\n"
     ]
    }
   ],
   "source": [
    "q = 0\n",
    "for i in user_root:\n",
    "    q+=1\n",
    "    print(i.tag,i.attrib)\n",
    "    if q == 3: break"
   ]
  },
  {
   "cell_type": "code",
   "execution_count": 64,
   "metadata": {},
   "outputs": [
    {
     "data": {
      "text/plain": [
       "<Element 'row' at 0x0000026FDF50FD30>"
      ]
     },
     "execution_count": 64,
     "metadata": {},
     "output_type": "execute_result"
    }
   ],
   "source": [
    "user_root[0]"
   ]
  },
  {
   "cell_type": "code",
   "execution_count": 65,
   "metadata": {},
   "outputs": [
    {
     "data": {
      "text/plain": [
       "'row'"
      ]
     },
     "execution_count": 65,
     "metadata": {},
     "output_type": "execute_result"
    }
   ],
   "source": [
    "user_root[0].tag"
   ]
  },
  {
   "cell_type": "code",
   "execution_count": 66,
   "metadata": {},
   "outputs": [
    {
     "data": {
      "text/plain": [
       "{'AccountId': '-1',\n",
       " 'CreationDate': '2014-05-13T21:29:22.820',\n",
       " 'DownVotes': '679',\n",
       " 'Id': '-1',\n",
       " 'LastAccessDate': '2014-05-13T21:29:22.820',\n",
       " 'Location': 'on the server farm',\n",
       " 'Reputation': '1',\n",
       " 'UpVotes': '780',\n",
       " 'Views': '0'}"
      ]
     },
     "execution_count": 66,
     "metadata": {},
     "output_type": "execute_result"
    }
   ],
   "source": [
    "user_root[0].attrib"
   ]
  },
  {
   "cell_type": "code",
   "execution_count": null,
   "metadata": {},
   "outputs": [],
   "source": []
  }
 ],
 "metadata": {
  "kernelspec": {
   "display_name": "Python 3.10.8 64-bit (microsoft store)",
   "language": "python",
   "name": "python3"
  },
  "language_info": {
   "codemirror_mode": {
    "name": "ipython",
    "version": 3
   },
   "file_extension": ".py",
   "mimetype": "text/x-python",
   "name": "python",
   "nbconvert_exporter": "python",
   "pygments_lexer": "ipython3",
   "version": "3.10.8"
  },
  "orig_nbformat": 4,
  "vscode": {
   "interpreter": {
    "hash": "9deea79bfd8769c20cdb41e577c31349975f53057f7c4a88718c49dab3f025eb"
   }
  }
 },
 "nbformat": 4,
 "nbformat_minor": 2
}
